{
  "nbformat": 4,
  "nbformat_minor": 0,
  "metadata": {
    "colab": {
      "provenance": []
    },
    "kernelspec": {
      "name": "python3",
      "display_name": "Python 3"
    },
    "language_info": {
      "name": "python"
    }
  },
  "cells": [
    {
      "cell_type": "code",
      "source": [
        "!pip install langchain sentence-transformers"
      ],
      "metadata": {
        "colab": {
          "base_uri": "https://localhost:8080/"
        },
        "id": "kGN4nimsGQFf",
        "outputId": "347a8b55-ac27-4099-e493-395925de409c"
      },
      "execution_count": 1,
      "outputs": [
        {
          "output_type": "stream",
          "name": "stdout",
          "text": [
            "Collecting langchain\n",
            "  Downloading langchain-0.1.0-py3-none-any.whl (797 kB)\n",
            "\u001b[2K     \u001b[90m━━━━━━━━━━━━━━━━━━━━━━━━━━━━━━━━━━━━━━━━\u001b[0m \u001b[32m798.0/798.0 kB\u001b[0m \u001b[31m4.2 MB/s\u001b[0m eta \u001b[36m0:00:00\u001b[0m\n",
            "\u001b[?25hCollecting sentence-transformers\n",
            "  Downloading sentence-transformers-2.2.2.tar.gz (85 kB)\n",
            "\u001b[2K     \u001b[90m━━━━━━━━━━━━━━━━━━━━━━━━━━━━━━━━━━━━━━━━\u001b[0m \u001b[32m86.0/86.0 kB\u001b[0m \u001b[31m5.1 MB/s\u001b[0m eta \u001b[36m0:00:00\u001b[0m\n",
            "\u001b[?25h  Preparing metadata (setup.py) ... \u001b[?25l\u001b[?25hdone\n",
            "Requirement already satisfied: PyYAML>=5.3 in /usr/local/lib/python3.10/dist-packages (from langchain) (6.0.1)\n",
            "Requirement already satisfied: SQLAlchemy<3,>=1.4 in /usr/local/lib/python3.10/dist-packages (from langchain) (2.0.24)\n",
            "Requirement already satisfied: aiohttp<4.0.0,>=3.8.3 in /usr/local/lib/python3.10/dist-packages (from langchain) (3.9.1)\n",
            "Requirement already satisfied: async-timeout<5.0.0,>=4.0.0 in /usr/local/lib/python3.10/dist-packages (from langchain) (4.0.3)\n",
            "Collecting dataclasses-json<0.7,>=0.5.7 (from langchain)\n",
            "  Downloading dataclasses_json-0.6.3-py3-none-any.whl (28 kB)\n",
            "Collecting jsonpatch<2.0,>=1.33 (from langchain)\n",
            "  Downloading jsonpatch-1.33-py2.py3-none-any.whl (12 kB)\n",
            "Collecting langchain-community<0.1,>=0.0.9 (from langchain)\n",
            "  Downloading langchain_community-0.0.11-py3-none-any.whl (1.5 MB)\n",
            "\u001b[2K     \u001b[90m━━━━━━━━━━━━━━━━━━━━━━━━━━━━━━━━━━━━━━━━\u001b[0m \u001b[32m1.5/1.5 MB\u001b[0m \u001b[31m14.9 MB/s\u001b[0m eta \u001b[36m0:00:00\u001b[0m\n",
            "\u001b[?25hCollecting langchain-core<0.2,>=0.1.7 (from langchain)\n",
            "  Downloading langchain_core-0.1.9-py3-none-any.whl (216 kB)\n",
            "\u001b[2K     \u001b[90m━━━━━━━━━━━━━━━━━━━━━━━━━━━━━━━━━━━━━━━━\u001b[0m \u001b[32m216.5/216.5 kB\u001b[0m \u001b[31m14.0 MB/s\u001b[0m eta \u001b[36m0:00:00\u001b[0m\n",
            "\u001b[?25hCollecting langsmith<0.1.0,>=0.0.77 (from langchain)\n",
            "  Downloading langsmith-0.0.79-py3-none-any.whl (48 kB)\n",
            "\u001b[2K     \u001b[90m━━━━━━━━━━━━━━━━━━━━━━━━━━━━━━━━━━━━━━━━\u001b[0m \u001b[32m48.4/48.4 kB\u001b[0m \u001b[31m2.3 MB/s\u001b[0m eta \u001b[36m0:00:00\u001b[0m\n",
            "\u001b[?25hRequirement already satisfied: numpy<2,>=1 in /usr/local/lib/python3.10/dist-packages (from langchain) (1.23.5)\n",
            "Requirement already satisfied: pydantic<3,>=1 in /usr/local/lib/python3.10/dist-packages (from langchain) (1.10.13)\n",
            "Requirement already satisfied: requests<3,>=2 in /usr/local/lib/python3.10/dist-packages (from langchain) (2.31.0)\n",
            "Requirement already satisfied: tenacity<9.0.0,>=8.1.0 in /usr/local/lib/python3.10/dist-packages (from langchain) (8.2.3)\n",
            "Requirement already satisfied: transformers<5.0.0,>=4.6.0 in /usr/local/lib/python3.10/dist-packages (from sentence-transformers) (4.35.2)\n",
            "Requirement already satisfied: tqdm in /usr/local/lib/python3.10/dist-packages (from sentence-transformers) (4.66.1)\n",
            "Requirement already satisfied: torch>=1.6.0 in /usr/local/lib/python3.10/dist-packages (from sentence-transformers) (2.1.0+cu121)\n",
            "Requirement already satisfied: torchvision in /usr/local/lib/python3.10/dist-packages (from sentence-transformers) (0.16.0+cu121)\n",
            "Requirement already satisfied: scikit-learn in /usr/local/lib/python3.10/dist-packages (from sentence-transformers) (1.2.2)\n",
            "Requirement already satisfied: scipy in /usr/local/lib/python3.10/dist-packages (from sentence-transformers) (1.11.4)\n",
            "Requirement already satisfied: nltk in /usr/local/lib/python3.10/dist-packages (from sentence-transformers) (3.8.1)\n",
            "Collecting sentencepiece (from sentence-transformers)\n",
            "  Downloading sentencepiece-0.1.99-cp310-cp310-manylinux_2_17_x86_64.manylinux2014_x86_64.whl (1.3 MB)\n",
            "\u001b[2K     \u001b[90m━━━━━━━━━━━━━━━━━━━━━━━━━━━━━━━━━━━━━━━━\u001b[0m \u001b[32m1.3/1.3 MB\u001b[0m \u001b[31m20.5 MB/s\u001b[0m eta \u001b[36m0:00:00\u001b[0m\n",
            "\u001b[?25hRequirement already satisfied: huggingface-hub>=0.4.0 in /usr/local/lib/python3.10/dist-packages (from sentence-transformers) (0.20.2)\n",
            "Requirement already satisfied: attrs>=17.3.0 in /usr/local/lib/python3.10/dist-packages (from aiohttp<4.0.0,>=3.8.3->langchain) (23.2.0)\n",
            "Requirement already satisfied: multidict<7.0,>=4.5 in /usr/local/lib/python3.10/dist-packages (from aiohttp<4.0.0,>=3.8.3->langchain) (6.0.4)\n",
            "Requirement already satisfied: yarl<2.0,>=1.0 in /usr/local/lib/python3.10/dist-packages (from aiohttp<4.0.0,>=3.8.3->langchain) (1.9.4)\n",
            "Requirement already satisfied: frozenlist>=1.1.1 in /usr/local/lib/python3.10/dist-packages (from aiohttp<4.0.0,>=3.8.3->langchain) (1.4.1)\n",
            "Requirement already satisfied: aiosignal>=1.1.2 in /usr/local/lib/python3.10/dist-packages (from aiohttp<4.0.0,>=3.8.3->langchain) (1.3.1)\n",
            "Collecting marshmallow<4.0.0,>=3.18.0 (from dataclasses-json<0.7,>=0.5.7->langchain)\n",
            "  Downloading marshmallow-3.20.2-py3-none-any.whl (49 kB)\n",
            "\u001b[2K     \u001b[90m━━━━━━━━━━━━━━━━━━━━━━━━━━━━━━━━━━━━━━━━\u001b[0m \u001b[32m49.4/49.4 kB\u001b[0m \u001b[31m1.2 MB/s\u001b[0m eta \u001b[36m0:00:00\u001b[0m\n",
            "\u001b[?25hCollecting typing-inspect<1,>=0.4.0 (from dataclasses-json<0.7,>=0.5.7->langchain)\n",
            "  Downloading typing_inspect-0.9.0-py3-none-any.whl (8.8 kB)\n",
            "Requirement already satisfied: filelock in /usr/local/lib/python3.10/dist-packages (from huggingface-hub>=0.4.0->sentence-transformers) (3.13.1)\n",
            "Requirement already satisfied: fsspec>=2023.5.0 in /usr/local/lib/python3.10/dist-packages (from huggingface-hub>=0.4.0->sentence-transformers) (2023.6.0)\n",
            "Requirement already satisfied: typing-extensions>=3.7.4.3 in /usr/local/lib/python3.10/dist-packages (from huggingface-hub>=0.4.0->sentence-transformers) (4.5.0)\n",
            "Requirement already satisfied: packaging>=20.9 in /usr/local/lib/python3.10/dist-packages (from huggingface-hub>=0.4.0->sentence-transformers) (23.2)\n",
            "Collecting jsonpointer>=1.9 (from jsonpatch<2.0,>=1.33->langchain)\n",
            "  Downloading jsonpointer-2.4-py2.py3-none-any.whl (7.8 kB)\n",
            "Requirement already satisfied: anyio<5,>=3 in /usr/local/lib/python3.10/dist-packages (from langchain-core<0.2,>=0.1.7->langchain) (3.7.1)\n",
            "Requirement already satisfied: charset-normalizer<4,>=2 in /usr/local/lib/python3.10/dist-packages (from requests<3,>=2->langchain) (3.3.2)\n",
            "Requirement already satisfied: idna<4,>=2.5 in /usr/local/lib/python3.10/dist-packages (from requests<3,>=2->langchain) (3.6)\n",
            "Requirement already satisfied: urllib3<3,>=1.21.1 in /usr/local/lib/python3.10/dist-packages (from requests<3,>=2->langchain) (2.0.7)\n",
            "Requirement already satisfied: certifi>=2017.4.17 in /usr/local/lib/python3.10/dist-packages (from requests<3,>=2->langchain) (2023.11.17)\n",
            "Requirement already satisfied: greenlet!=0.4.17 in /usr/local/lib/python3.10/dist-packages (from SQLAlchemy<3,>=1.4->langchain) (3.0.3)\n",
            "Requirement already satisfied: sympy in /usr/local/lib/python3.10/dist-packages (from torch>=1.6.0->sentence-transformers) (1.12)\n",
            "Requirement already satisfied: networkx in /usr/local/lib/python3.10/dist-packages (from torch>=1.6.0->sentence-transformers) (3.2.1)\n",
            "Requirement already satisfied: jinja2 in /usr/local/lib/python3.10/dist-packages (from torch>=1.6.0->sentence-transformers) (3.1.2)\n",
            "Requirement already satisfied: triton==2.1.0 in /usr/local/lib/python3.10/dist-packages (from torch>=1.6.0->sentence-transformers) (2.1.0)\n",
            "Requirement already satisfied: regex!=2019.12.17 in /usr/local/lib/python3.10/dist-packages (from transformers<5.0.0,>=4.6.0->sentence-transformers) (2023.6.3)\n",
            "Requirement already satisfied: tokenizers<0.19,>=0.14 in /usr/local/lib/python3.10/dist-packages (from transformers<5.0.0,>=4.6.0->sentence-transformers) (0.15.0)\n",
            "Requirement already satisfied: safetensors>=0.3.1 in /usr/local/lib/python3.10/dist-packages (from transformers<5.0.0,>=4.6.0->sentence-transformers) (0.4.1)\n",
            "Requirement already satisfied: click in /usr/local/lib/python3.10/dist-packages (from nltk->sentence-transformers) (8.1.7)\n",
            "Requirement already satisfied: joblib in /usr/local/lib/python3.10/dist-packages (from nltk->sentence-transformers) (1.3.2)\n",
            "Requirement already satisfied: threadpoolctl>=2.0.0 in /usr/local/lib/python3.10/dist-packages (from scikit-learn->sentence-transformers) (3.2.0)\n",
            "Requirement already satisfied: pillow!=8.3.*,>=5.3.0 in /usr/local/lib/python3.10/dist-packages (from torchvision->sentence-transformers) (9.4.0)\n",
            "Requirement already satisfied: sniffio>=1.1 in /usr/local/lib/python3.10/dist-packages (from anyio<5,>=3->langchain-core<0.2,>=0.1.7->langchain) (1.3.0)\n",
            "Requirement already satisfied: exceptiongroup in /usr/local/lib/python3.10/dist-packages (from anyio<5,>=3->langchain-core<0.2,>=0.1.7->langchain) (1.2.0)\n",
            "Collecting mypy-extensions>=0.3.0 (from typing-inspect<1,>=0.4.0->dataclasses-json<0.7,>=0.5.7->langchain)\n",
            "  Downloading mypy_extensions-1.0.0-py3-none-any.whl (4.7 kB)\n",
            "Requirement already satisfied: MarkupSafe>=2.0 in /usr/local/lib/python3.10/dist-packages (from jinja2->torch>=1.6.0->sentence-transformers) (2.1.3)\n",
            "Requirement already satisfied: mpmath>=0.19 in /usr/local/lib/python3.10/dist-packages (from sympy->torch>=1.6.0->sentence-transformers) (1.3.0)\n",
            "Building wheels for collected packages: sentence-transformers\n",
            "  Building wheel for sentence-transformers (setup.py) ... \u001b[?25l\u001b[?25hdone\n",
            "  Created wheel for sentence-transformers: filename=sentence_transformers-2.2.2-py3-none-any.whl size=125923 sha256=9a21ee6577b7e99993a5324d310fe3af1b277a35564d9c6ef4efb5edcde614e0\n",
            "  Stored in directory: /root/.cache/pip/wheels/62/f2/10/1e606fd5f02395388f74e7462910fe851042f97238cbbd902f\n",
            "Successfully built sentence-transformers\n",
            "Installing collected packages: sentencepiece, mypy-extensions, marshmallow, jsonpointer, typing-inspect, langsmith, jsonpatch, langchain-core, dataclasses-json, langchain-community, sentence-transformers, langchain\n",
            "Successfully installed dataclasses-json-0.6.3 jsonpatch-1.33 jsonpointer-2.4 langchain-0.1.0 langchain-community-0.0.11 langchain-core-0.1.9 langsmith-0.0.79 marshmallow-3.20.2 mypy-extensions-1.0.0 sentence-transformers-2.2.2 sentencepiece-0.1.99 typing-inspect-0.9.0\n"
          ]
        }
      ]
    },
    {
      "cell_type": "code",
      "source": [
        "import pandas as pd\n",
        "import json\n",
        "import torch\n",
        "from sentence_transformers import SentenceTransformer\n",
        "from transformers import AutoTokenizer, AutoModel\n",
        "\n",
        "from tqdm import tqdm\n",
        "import numpy as np\n",
        "import json\n",
        "\n",
        "from torch.nn import functional as F\n"
      ],
      "metadata": {
        "id": "9tFgRT5xAyZu"
      },
      "execution_count": 2,
      "outputs": []
    },
    {
      "cell_type": "code",
      "source": [
        "from google.colab import drive\n",
        "drive.mount('/content/drive')"
      ],
      "metadata": {
        "colab": {
          "base_uri": "https://localhost:8080/"
        },
        "id": "b77_itV4FZ9T",
        "outputId": "491e36fa-500b-44b1-ecb0-0b6122089acf"
      },
      "execution_count": 203,
      "outputs": [
        {
          "output_type": "stream",
          "name": "stdout",
          "text": [
            "Drive already mounted at /content/drive; to attempt to forcibly remount, call drive.mount(\"/content/drive\", force_remount=True).\n"
          ]
        }
      ]
    },
    {
      "cell_type": "code",
      "source": [
        "with open(\"/content/drive/MyDrive/valid_abstracts2013.json\", 'r') as f:\n",
        "    data = json.load(f)\n",
        "\n"
      ],
      "metadata": {
        "id": "GkoPmyZb3Idd"
      },
      "execution_count": 270,
      "outputs": []
    },
    {
      "cell_type": "code",
      "source": [
        "from sentence_transformers import SentenceTransformer\n",
        "from langchain.text_splitter import SentenceTransformersTokenTextSplitter"
      ],
      "metadata": {
        "id": "lI7ITYXM5kmw"
      },
      "execution_count": 206,
      "outputs": []
    },
    {
      "cell_type": "code",
      "source": [
        "embed_model_id = \"sentence-transformers/all-mpnet-base-v2\"\n",
        "model = SentenceTransformer(embed_model_id)"
      ],
      "metadata": {
        "id": "muahGZah5sFW"
      },
      "execution_count": 207,
      "outputs": []
    },
    {
      "cell_type": "code",
      "source": [
        "splitter = SentenceTransformersTokenTextSplitter(\n",
        "    model_name=embed_model_id,  # specify the model used for tokenization\n",
        "    chunk_overlap=10,  # set the overlap between consecutive text chunks\n",
        ")\n",
        "print(splitter.maximum_tokens_per_chunk)"
      ],
      "metadata": {
        "colab": {
          "base_uri": "https://localhost:8080/"
        },
        "id": "EIRDeM5u5sJD",
        "outputId": "673bb964-624f-4f66-e6c6-861eaf01e88b"
      },
      "execution_count": 208,
      "outputs": [
        {
          "output_type": "stream",
          "name": "stdout",
          "text": [
            "384\n"
          ]
        }
      ]
    },
    {
      "cell_type": "code",
      "source": [
        "for key, value in data.items():\n",
        "    print(f\"Key: {key}\")"
      ],
      "metadata": {
        "colab": {
          "base_uri": "https://localhost:8080/"
        },
        "id": "hkET0h1H5syF",
        "outputId": "66dd7677-5d8b-4802-ee91-72b9f79381d0"
      },
      "execution_count": 211,
      "outputs": [
        {
          "output_type": "stream",
          "name": "stdout",
          "text": [
            "Key: abstracts\n",
            "Key: authior\n",
            "Key: url\n",
            "Key: title\n",
            "Key: article_id\n"
          ]
        }
      ]
    },
    {
      "cell_type": "code",
      "source": [
        "# initialize an empty list to store vector data information\n",
        "vector_data = []\n",
        "\n",
        "# loop over each document in the \"train\" split of the dataset\n",
        "for i in range(len(data['abstracts'])):\n",
        "\n",
        "\n",
        "    # split abstract text into chunks\n",
        "    chunks = splitter.split_text(text=data['abstracts'][i])\n",
        "\n",
        "    # process each chunk\n",
        "    for j, chunk in enumerate(chunks):\n",
        "\n",
        "        # create metadata dictionary\n",
        "        metadata = {\n",
        "            \"article_id\": data['article_id'][i][0][0],\n",
        "            \"title\": data[\"title\"][i],\n",
        "            \"authior\":  ', '.join([author[0] for author in data[\"authior\"][i]]) ,\n",
        "\n",
        "            \"url\": data[\"url\"][i],\n",
        "            \"text_chunk_id\": j,\n",
        "            \"text\": chunk,\n",
        "        }\n",
        "\n",
        "        # embed the chunk using sentence transformer model\n",
        "        embedding = model.encode(chunk).tolist()\n",
        "\n",
        "        # generate unique identifier\n",
        "        ids = f\"{data['article_id'][i][0][0]}_{j}\"\n",
        "\n",
        "        # append data to the vector_data list\n",
        "        vector_data.append((ids, embedding, metadata))\n"
      ],
      "metadata": {
        "id": "0Llmmu_IRK9y"
      },
      "execution_count": 212,
      "outputs": []
    },
    {
      "cell_type": "code",
      "source": [
        "for i in range(len(vector_data)):\n",
        "  vector_data[i][2][\"authior\"]=vector_data[i][2][\"authior\"].split(\", \")\n",
        "\n"
      ],
      "metadata": {
        "id": "dcny3xIXuHGK"
      },
      "execution_count": null,
      "outputs": []
    },
    {
      "cell_type": "code",
      "source": [
        "!pip install -qU pinecone-client==2.2.4"
      ],
      "metadata": {
        "id": "ru4_I8huLUOb"
      },
      "execution_count": 215,
      "outputs": []
    },
    {
      "cell_type": "code",
      "source": [
        "# import libraries\n",
        "import pinecone\n",
        "import time"
      ],
      "metadata": {
        "id": "blT6-MCpOkIZ"
      },
      "execution_count": 216,
      "outputs": []
    },
    {
      "cell_type": "code",
      "source": [
        "import os"
      ],
      "metadata": {
        "id": "WdELwX1UO5xN"
      },
      "execution_count": 217,
      "outputs": []
    },
    {
      "cell_type": "code",
      "source": [
        "# initialize Pinecone with API key and environment\n",
        "# get API key and environment from app.pinecone.io console\n",
        "pinecone.init(\n",
        "    api_key=\"ba161cc5-2ff9-41f9-9754-cb0e319c6703\",\n",
        "    environment= \"gcp-starter\")\n",
        "\n",
        "# get index name from environment variables\n",
        "index_name = os.getenv('PC_INDEX')"
      ],
      "metadata": {
        "id": "sAGbAwLeOkKR"
      },
      "execution_count": 218,
      "outputs": []
    },
    {
      "cell_type": "code",
      "source": [
        "index=pinecone.Index(\"database\")"
      ],
      "metadata": {
        "id": "2qllbgR8QTSk"
      },
      "execution_count": 219,
      "outputs": []
    },
    {
      "cell_type": "code",
      "source": [
        "def insert_pinecone(index, vector_data):\n",
        "\n",
        "    batch_size = 200\n",
        "\n",
        "    # loop over the data in batches for efficient upsert\n",
        "    for i in tqdm(range(0, len(vector_data), batch_size)):\n",
        "        # get the current batch of data\n",
        "        code = [vector_data[j] for j in range(i, min(i + batch_size, len(vector_data)))]\n",
        "\n",
        "        # upsert the batch of data into the Pinecone index\n",
        "        index.upsert(vectors=code)\n",
        "\n",
        "        # sleep for 1 second to avoid API rate limits\n",
        "        time.sleep(1)"
      ],
      "metadata": {
        "id": "a07bmvICQz77"
      },
      "execution_count": 220,
      "outputs": []
    },
    {
      "cell_type": "code",
      "source": [
        "# check if we have vector data to insert\n",
        "if vector_data:\n",
        "    insert_pinecone(index, vector_data)"
      ],
      "metadata": {
        "colab": {
          "base_uri": "https://localhost:8080/"
        },
        "id": "_UyUIcxhRHxY",
        "outputId": "5849a244-bc23-4252-d812-058eda634af6"
      },
      "execution_count": 262,
      "outputs": [
        {
          "output_type": "stream",
          "name": "stderr",
          "text": [
            "100%|██████████| 6/6 [00:12<00:00,  2.14s/it]\n"
          ]
        }
      ]
    },
    {
      "cell_type": "code",
      "source": [
        "query = [\"Children intelligence \"]\n",
        "query_embedding = model.encode(query).tolist()"
      ],
      "metadata": {
        "id": "1D3vSJftOkNm"
      },
      "execution_count": 267,
      "outputs": []
    },
    {
      "cell_type": "code",
      "source": [
        "# perform a basic search for top 4 results without document metadata filtering\n",
        "print(f\"Pinecone query without metadata:\")\n",
        "\n",
        "index.query(\n",
        "  vector=query_embedding,\n",
        "  top_k=4,\n",
        "  include_values=False,\n",
        "  include_metadata=True\n",
        ")"
      ],
      "metadata": {
        "colab": {
          "base_uri": "https://localhost:8080/"
        },
        "id": "wWSsq131iHQP",
        "outputId": "1a5b3f65-cc4f-4303-a7af-8c67865b1106"
      },
      "execution_count": 268,
      "outputs": [
        {
          "output_type": "stream",
          "name": "stdout",
          "text": [
            "Pinecone query without metadata:\n"
          ]
        },
        {
          "output_type": "execute_result",
          "data": {
            "text/plain": [
              "{'matches': [{'id': '24083565_0',\n",
              "              'metadata': {'article_id': '24083565',\n",
              "                           'authior': ['Tanabe Mark K',\n",
              "                                       'Whitaker Ashley M',\n",
              "                                       \"O'Callaghan Erin T\",\n",
              "                                       'Murray Joan',\n",
              "                                       'Houskamp Beth M'],\n",
              "                           'text': 'the purpose of this study was to explore '\n",
              "                                   'the relationship between intelligence and '\n",
              "                                   'executive functioning in youth. more '\n",
              "                                   'specifically, the authors hypothesized '\n",
              "                                   'that there would be a positive correlation '\n",
              "                                   'between scores on the wechsler '\n",
              "                                   'intelligence scale for children - fourth '\n",
              "                                   'edition general ability index ( gai ) and '\n",
              "                                   'understanding of sorting principles as '\n",
              "                                   'measured by percent conceptual - level '\n",
              "                                   'responses on the wisconsin card - sorting '\n",
              "                                   'test ( wcst ). one hundred eighty - five '\n",
              "                                   'children and adolescents completed '\n",
              "                                   'neuropsychological evaluations. results '\n",
              "                                   'revealed a curvilinear regression with '\n",
              "                                   'bright youth ( gai = 115 - 129 ) and '\n",
              "                                   'gifted youth ( gai ≥130 ) performing '\n",
              "                                   'better than average youth ( gai = 90 - 114 '\n",
              "                                   ') and no difference in performance between '\n",
              "                                   'bright and gifted youth. additionally, '\n",
              "                                   'post - hoc analyses revealed intelligence '\n",
              "                                   'in children 5 to 8 years of age and 12 to '\n",
              "                                   '16 years of age did not significantly '\n",
              "                                   'predict percent conceptual - level '\n",
              "                                   'responses, while intelligence predicted '\n",
              "                                   'more than 19 % of the variance in percent '\n",
              "                                   'conceptual - level responses for children '\n",
              "                                   'ages 9 to 11 years old. findings revealed '\n",
              "                                   'new evidence about the role of '\n",
              "                                   'intellectual ability in executive '\n",
              "                                   'functioning among different age ranges and '\n",
              "                                   'have important implications for '\n",
              "                                   'psychologists, caregivers, educators, and '\n",
              "                                   'other professionals working with this '\n",
              "                                   'population.',\n",
              "                           'text_chunk_id': 0.0,\n",
              "                           'title': 'Intellectual ability as a predictor of '\n",
              "                                    'performance on the Wisconsin Card-Sorting '\n",
              "                                    'Test.',\n",
              "                           'url': 'https://eutils.ncbi.nlm.nih.gov/entrez/eutils/efetch.fcgi?db=pubmed&id=24083565&retmode=xml'},\n",
              "              'score': 0.630876303,\n",
              "              'values': []},\n",
              "             {'id': '23937534_0',\n",
              "              'metadata': {'article_id': '23937534',\n",
              "                           'authior': ['Reynolds Matthew R',\n",
              "                                       'Floyd Randy G',\n",
              "                                       'Niileksela Christopher R'],\n",
              "                           'text': 'global composites ( e. g., iqs ) '\n",
              "                                   'calculated in intelligence tests are '\n",
              "                                   'interpreted as indexes of the general '\n",
              "                                   'factor of intelligence, or psychometric g. '\n",
              "                                   'it is therefore important to understand '\n",
              "                                   'the proportion of variance in those global '\n",
              "                                   'composites that is explained by g. in this '\n",
              "                                   'study, we calculated this value, referred '\n",
              "                                   'to as hierarchical omega, using large - '\n",
              "                                   'scale, nationally representative norming '\n",
              "                                   'sample data from 3 popular individually '\n",
              "                                   'administered tests of intelligence for '\n",
              "                                   'children and adolescents. we also '\n",
              "                                   'calculated the proportion of variance '\n",
              "                                   'explained in the global composites by g '\n",
              "                                   'and the group factors, referred to as '\n",
              "                                   'omega total, or composite reliability, for '\n",
              "                                   'comparison purposes. within each battery, '\n",
              "                                   'g was measured equally well. using total '\n",
              "                                   'sample data, we found that 82 % - 83 % of '\n",
              "                                   'the total test score variance was '\n",
              "                                   'explained by g. the group factors were '\n",
              "                                   'also measured in the global composites, '\n",
              "                                   'with both g and group factors explaining '\n",
              "                                   '89 % - 91 % of the total test score '\n",
              "                                   'variance for the total samples. global '\n",
              "                                   'composites are primarily indexes of g, but '\n",
              "                                   'the group factors, as a whole, also '\n",
              "                                   'explain a meaningful amount of variance.',\n",
              "                           'text_chunk_id': 0.0,\n",
              "                           'title': 'How well is psychometric g indexed by '\n",
              "                                    'global composites? Evidence from three '\n",
              "                                    'popular intelligence tests.',\n",
              "                           'url': 'https://eutils.ncbi.nlm.nih.gov/entrez/eutils/efetch.fcgi?db=pubmed&id=23937534&retmode=xml'},\n",
              "              'score': 0.595178306,\n",
              "              'values': []},\n",
              "             {'id': '26172250_0',\n",
              "              'metadata': {'article_id': '26172250',\n",
              "                           'authior': ['Protzko John',\n",
              "                                       'Aronson Joshua',\n",
              "                                       'Blair Clancy'],\n",
              "                           'text': 'can interventions meaningfully increase '\n",
              "                                   'intelligence? if so, how? the database of '\n",
              "                                   'raising intelligence is a continuously '\n",
              "                                   'updated compendium of randomized '\n",
              "                                   'controlled trials that were designed to '\n",
              "                                   'increase intelligence. in this article, '\n",
              "                                   'the authors examine nearly every available '\n",
              "                                   'intervention involving children from birth '\n",
              "                                   'to kindergarten, using meta - analytic '\n",
              "                                   'procedures when more than 3 studies tested '\n",
              "                                   'similar methods and reviewing '\n",
              "                                   'interventions when too few were available '\n",
              "                                   'for meta - analysis. this yielded 4 meta - '\n",
              "                                   'analyses on the effects of dietary '\n",
              "                                   'supplementation to pregnant mothers and '\n",
              "                                   'neonates, early educational interventions, '\n",
              "                                   'interactive reading, and sending a child '\n",
              "                                   'to preschool. all 4 meta - analyses '\n",
              "                                   'yielded significant results : '\n",
              "                                   'supplementing infants with long - chain '\n",
              "                                   'polyunsaturated fatty acids, enrolling '\n",
              "                                   'children in early educational '\n",
              "                                   'interventions, reading to children in an '\n",
              "                                   'interactive manner, and sending children '\n",
              "                                   'to preschool all raise the intelligence of '\n",
              "                                   'young children.',\n",
              "                           'text_chunk_id': 0.0,\n",
              "                           'title': 'How to Make a Young Child Smarter: '\n",
              "                                    'Evidence From the Database of Raising '\n",
              "                                    'Intelligence.',\n",
              "                           'url': 'https://eutils.ncbi.nlm.nih.gov/entrez/eutils/efetch.fcgi?db=pubmed&id=26172250&retmode=xml'},\n",
              "              'score': 0.588818431,\n",
              "              'values': []},\n",
              "             {'id': '23656355_0',\n",
              "              'metadata': {'article_id': '23656355',\n",
              "                           'authior': ['Hurks P P M',\n",
              "                                       'Hendriksen J G M',\n",
              "                                       'Dek J E',\n",
              "                                       'Kooij A P'],\n",
              "                           'text': 'intelligence tests are included in '\n",
              "                                   'millions of assessments of children and '\n",
              "                                   'adults each year ( watkins, glutting, & '\n",
              "                                   'lei, 2007a, applied neuropsychology, 14, '\n",
              "                                   '13 ). clinicians often interpret large '\n",
              "                                   'amounts of subtest scatter, or large '\n",
              "                                   'differences between the highest and lowest '\n",
              "                                   'scaled subtest scores, on an intelligence '\n",
              "                                   'test battery as an index for abnormality '\n",
              "                                   'or cognitive impairment. the purpose of '\n",
              "                                   'the present study is to characterize \" '\n",
              "                                   'normal \" patterns of variability among '\n",
              "                                   'subtests of the dutch wechsler preschool '\n",
              "                                   'and primary scale of intelligence - third '\n",
              "                                   'edition ( wppsi - iii - nl ; wechsler, '\n",
              "                                   '2010 ). therefore, the frequencies of '\n",
              "                                   'wppsi - iii - nl scaled subtest scatter '\n",
              "                                   'were reported for 1039 healthy children '\n",
              "                                   'aged 4 : 0 - 7 : 11 years. results '\n",
              "                                   'indicated that large differences between '\n",
              "                                   'highest and lowest scaled subtest scores ( '\n",
              "                                   'or subtest scatter ) were common in this '\n",
              "                                   'sample. furthermore, degree of subtest '\n",
              "                                   'scatter was related to : ( a ) the '\n",
              "                                   'magnitude of the highest scaled subtest '\n",
              "                                   'score, i. e., more scatter was seen in '\n",
              "                                   'children with the highest wppsi - iii - nl '\n",
              "                                   'scaled subtest scores, ( b ) full scale iq '\n",
              "                                   '( fsiq ) scores, i. e., higher fsiq scores '\n",
              "                                   'were associated with an increase in '\n",
              "                                   'subtest scatter, and ( c ) sex '\n",
              "                                   'differences, with boys showing a tendency '\n",
              "                                   'to display more scatter than girls. in '\n",
              "                                   'conclusion, viewing subtest scatter as an '\n",
              "                                   'index for abnormality in wppsi - iii - nl '\n",
              "                                   'scores is an oversimplification as this '\n",
              "                                   'fails to recognize disparate subtest '\n",
              "                                   'heterogeneity that occurs within a '\n",
              "                                   'population of healthy children aged 4 : 0 '\n",
              "                                   '- 7 : 11 years.',\n",
              "                           'text_chunk_id': 0.0,\n",
              "                           'title': \"Normal variability of children's scaled \"\n",
              "                                    'scores on subtests of the Dutch Wechsler '\n",
              "                                    'Preschool and Primary scale of '\n",
              "                                    'Intelligence - third edition.',\n",
              "                           'url': 'https://eutils.ncbi.nlm.nih.gov/entrez/eutils/efetch.fcgi?db=pubmed&id=23656355&retmode=xml'},\n",
              "              'score': 0.583811939,\n",
              "              'values': []}],\n",
              " 'namespace': ''}"
            ]
          },
          "metadata": {},
          "execution_count": 268
        }
      ]
    },
    {
      "cell_type": "code",
      "source": [
        "#search with metadata filtering\n",
        "print(f\"\\nPinecone query with author filter and metadata:\")\n",
        "\n",
        "index.query(\n",
        "     vector=query_embedding,\n",
        "\n",
        "\n",
        "     filter={'authior': {'$in': ['Tanabe Mark K']}},\n",
        "     top_k=4,\n",
        "     include_metadata=True # if true then metadata values are displayed\n",
        ")\n"
      ],
      "metadata": {
        "colab": {
          "base_uri": "https://localhost:8080/"
        },
        "id": "iD5aN5ipiOQY",
        "outputId": "48e1dc0e-f8ce-4e1f-b0a0-ef02a3340843"
      },
      "execution_count": 269,
      "outputs": [
        {
          "output_type": "stream",
          "name": "stdout",
          "text": [
            "\n",
            "Pinecone query with author filter and metadata:\n"
          ]
        },
        {
          "output_type": "execute_result",
          "data": {
            "text/plain": [
              "{'matches': [{'id': '24083565_0',\n",
              "              'metadata': {'article_id': '24083565',\n",
              "                           'authior': ['Tanabe Mark K',\n",
              "                                       'Whitaker Ashley M',\n",
              "                                       \"O'Callaghan Erin T\",\n",
              "                                       'Murray Joan',\n",
              "                                       'Houskamp Beth M'],\n",
              "                           'text': 'the purpose of this study was to explore '\n",
              "                                   'the relationship between intelligence and '\n",
              "                                   'executive functioning in youth. more '\n",
              "                                   'specifically, the authors hypothesized '\n",
              "                                   'that there would be a positive correlation '\n",
              "                                   'between scores on the wechsler '\n",
              "                                   'intelligence scale for children - fourth '\n",
              "                                   'edition general ability index ( gai ) and '\n",
              "                                   'understanding of sorting principles as '\n",
              "                                   'measured by percent conceptual - level '\n",
              "                                   'responses on the wisconsin card - sorting '\n",
              "                                   'test ( wcst ). one hundred eighty - five '\n",
              "                                   'children and adolescents completed '\n",
              "                                   'neuropsychological evaluations. results '\n",
              "                                   'revealed a curvilinear regression with '\n",
              "                                   'bright youth ( gai = 115 - 129 ) and '\n",
              "                                   'gifted youth ( gai ≥130 ) performing '\n",
              "                                   'better than average youth ( gai = 90 - 114 '\n",
              "                                   ') and no difference in performance between '\n",
              "                                   'bright and gifted youth. additionally, '\n",
              "                                   'post - hoc analyses revealed intelligence '\n",
              "                                   'in children 5 to 8 years of age and 12 to '\n",
              "                                   '16 years of age did not significantly '\n",
              "                                   'predict percent conceptual - level '\n",
              "                                   'responses, while intelligence predicted '\n",
              "                                   'more than 19 % of the variance in percent '\n",
              "                                   'conceptual - level responses for children '\n",
              "                                   'ages 9 to 11 years old. findings revealed '\n",
              "                                   'new evidence about the role of '\n",
              "                                   'intellectual ability in executive '\n",
              "                                   'functioning among different age ranges and '\n",
              "                                   'have important implications for '\n",
              "                                   'psychologists, caregivers, educators, and '\n",
              "                                   'other professionals working with this '\n",
              "                                   'population.',\n",
              "                           'text_chunk_id': 0.0,\n",
              "                           'title': 'Intellectual ability as a predictor of '\n",
              "                                    'performance on the Wisconsin Card-Sorting '\n",
              "                                    'Test.',\n",
              "                           'url': 'https://eutils.ncbi.nlm.nih.gov/entrez/eutils/efetch.fcgi?db=pubmed&id=24083565&retmode=xml'},\n",
              "              'score': 0.630876303,\n",
              "              'values': []}],\n",
              " 'namespace': ''}"
            ]
          },
          "metadata": {},
          "execution_count": 269
        }
      ]
    }
  ]
}