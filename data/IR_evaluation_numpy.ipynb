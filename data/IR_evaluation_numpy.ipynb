{
  "nbformat": 4,
  "nbformat_minor": 0,
  "metadata": {
    "colab": {
      "provenance": []
    },
    "kernelspec": {
      "name": "python3",
      "display_name": "Python 3"
    },
    "language_info": {
      "name": "python"
    }
  },
  "cells": [
    {
      "cell_type": "code",
      "execution_count": null,
      "metadata": {
        "id": "xMX3F31-uV-e"
      },
      "outputs": [],
      "source": [
        "import json\n",
        "import numpy as np\n",
        "import time"
      ]
    },
    {
      "cell_type": "code",
      "source": [
        "'''\n",
        "from google.colab import drive\n",
        "drive.mount('/content/drive')\n",
        "\n",
        "with open(\"/content/drive/MyDrive/QA_Generated_EmbeddingModelMiniLML6.json\", 'r') as f:\n",
        "    QA_couples = json.load(f)\n",
        "with open(\"/content/drive/MyDrive/database_numpy.json\", 'r') as f:\n",
        "    data_embedded = json.load(f)\n",
        "'''"
      ],
      "metadata": {
        "colab": {
          "base_uri": "https://localhost:8080/"
        },
        "id": "nOLmFExpvEHh",
        "outputId": "089fbfc4-8cbd-469d-dc8e-dfae591cea76"
      },
      "execution_count": null,
      "outputs": [
        {
          "output_type": "stream",
          "name": "stdout",
          "text": [
            "Drive already mounted at /content/drive; to attempt to forcibly remount, call drive.mount(\"/content/drive\", force_remount=True).\n"
          ]
        }
      ]
    },
    {
      "cell_type": "code",
      "source": [
        "with open(\"QA_Generated_EmbeddingModelMiniLML6.json\", 'r') as f:\n",
        "    QA_couples = json.load(f)\n",
        "with open(\"database_numpy.json\", 'r') as f:\n",
        "    data_embedded = json.load(f)"
      ],
      "metadata": {
        "id": "SViL9hjMQZRZ"
      },
      "execution_count": null,
      "outputs": []
    },
    {
      "cell_type": "code",
      "source": [
        "#replace this with import\n",
        "import torch\n",
        "from torch.nn import functional as F\n",
        "import numpy as np\n",
        "from abc import ABC, abstractmethod\n",
        "from typing import List, Tuple, Dict\n",
        "from transformers import AutoModel, AutoTokenizer\n",
        "from embedding_models import EmbeddingModelMiniLML6\n",
        "from databases import NumpyDataBase\n",
        "\n"
      ],
      "metadata": {
        "id": "YpDFMk0WvuWH"
      },
      "execution_count": null,
      "outputs": []
    },
    {
      "cell_type": "code",
      "source": [
        "model = EmbeddingModelMiniLML6()\n",
        "database=NumpyDataBase(data_embedded,model)\n"
      ],
      "metadata": {
        "id": "4zSWu5abvuZx"
      },
      "execution_count": null,
      "outputs": []
    },
    {
      "cell_type": "code",
      "source": [
        "def Hit_rate(true_doc, retrieved_doc):\n",
        "  rate=0\n",
        "  for i in range(len(true_doc)):\n",
        "    if true_doc[i] in retrieved_doc[i]:\n",
        "      rate += 1\n",
        "\n",
        "  return rate/len(true_doc)\n",
        "\n",
        "def MRR(true_doc,retrieved_doc):\n",
        "  rank=np.zeros(len(true_doc))\n",
        "\n",
        "  for i in range(len(true_doc)):\n",
        "    if true_doc[i]  in retrieved_doc[i]:\n",
        "\n",
        "\n",
        "      rank[i]=1/(retrieved_doc[i].index(true_doc[i])+1)\n",
        "\n",
        "\n",
        "  return rank.mean()"
      ],
      "metadata": {
        "id": "tgNECRsSut63"
      },
      "execution_count": null,
      "outputs": []
    },
    {
      "cell_type": "code",
      "source": [
        "questions=QA_couples[\"question\"]"
      ],
      "metadata": {
        "id": "__RKZW0Tut89"
      },
      "execution_count": null,
      "outputs": []
    },
    {
      "cell_type": "code",
      "source": [
        "true_doc=QA_couples['context']\n",
        "for top_k in range (1,6,1):\n",
        "  retrieved_doc=[]\n",
        "  for i in range(len(questions)):\n",
        "\n",
        "    retrieval_k=database.retrieve_by_query(questions[i],top_k)\n",
        "\n",
        "    retrieval=[retrieval_k[k][\"abstract\"] for k in range(len(retrieval_k))]\n",
        "\n",
        "\n",
        "    retrieved_doc.append(retrieval)\n",
        "\n",
        "\n",
        "  h=Hit_rate(true_doc,retrieved_doc)\n",
        "  m=MRR(true_doc,retrieved_doc)\n",
        "  print(f\"Hit rate (top_k={top_k}) : {h}\\nMRR (top_k={top_k}) : {m}\")\n"
      ],
      "metadata": {
        "colab": {
          "base_uri": "https://localhost:8080/"
        },
        "id": "kXPDTu8g2dRJ",
        "outputId": "86e27f44-32b9-49d1-aab5-ff7417f27566"
      },
      "execution_count": null,
      "outputs": [
        {
          "output_type": "stream",
          "name": "stdout",
          "text": [
            "Hit rate (top_k=1) : 0.8584070796460177\n",
            "MRR (top_k=1) : 0.8584070796460177\n",
            "Hit rate (top_k=2) : 0.915929203539823\n",
            "MRR (top_k=2) : 0.504424778761062\n",
            "Hit rate (top_k=3) : 0.9292035398230089\n",
            "MRR (top_k=3) : 0.3643067846607669\n",
            "Hit rate (top_k=4) : 0.9336283185840708\n",
            "MRR (top_k=4) : 0.2905604719764012\n",
            "Hit rate (top_k=5) : 0.9557522123893806\n",
            "MRR (top_k=5) : 0.26526548672566375\n"
          ]
        }
      ]
    },
    {
      "cell_type": "code",
      "source": [],
      "metadata": {
        "id": "2KRJLGFZU-Vl"
      },
      "execution_count": null,
      "outputs": []
    }
  ]
}