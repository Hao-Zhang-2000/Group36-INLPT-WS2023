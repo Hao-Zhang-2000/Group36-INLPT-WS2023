{
 "cells": [
  {
   "cell_type": "code",
   "execution_count": 1,
   "id": "79045504-d8b3-47ea-b77f-afdb8a9906c1",
   "metadata": {},
   "outputs": [],
   "source": [
    "from time import perf_counter \n",
    "import numpy as np"
   ]
  },
  {
   "cell_type": "code",
   "execution_count": 7,
   "id": "df686457-88c0-440e-867a-f6237bb9e001",
   "metadata": {},
   "outputs": [
    {
     "data": {
      "text/plain": [
       "29885.741235416"
      ]
     },
     "execution_count": 7,
     "metadata": {},
     "output_type": "execute_result"
    }
   ],
   "source": [
    "perf_counter()"
   ]
  },
  {
   "cell_type": "code",
   "execution_count": 8,
   "id": "6ef95801-80ba-4682-b6c2-acf09bfb1f1d",
   "metadata": {},
   "outputs": [],
   "source": [
    "query = np.random.randn(384)"
   ]
  },
  {
   "cell_type": "code",
   "execution_count": 24,
   "id": "4017b10f-878d-4ff6-8e4b-ab26ebde2776",
   "metadata": {},
   "outputs": [],
   "source": [
    "storage = np.random.randn(1000000, 384)"
   ]
  },
  {
   "cell_type": "code",
   "execution_count": 30,
   "id": "f25fa025-0bc1-41f4-990f-1f4f72a741be",
   "metadata": {},
   "outputs": [
    {
     "name": "stdout",
     "output_type": "stream",
     "text": [
      "0.079335s\n"
     ]
    }
   ],
   "source": [
    "start = perf_counter()\n",
    "cosines = storage @ query\n",
    "end = perf_counter()\n",
    "print(f\"{(end-start):.6f}s\")"
   ]
  },
  {
   "cell_type": "code",
   "execution_count": null,
   "id": "dd1978e2-6af2-4036-a34b-e21be9cde935",
   "metadata": {},
   "outputs": [],
   "source": []
  },
  {
   "cell_type": "code",
   "execution_count": null,
   "id": "888691e0-39be-450f-94ab-518afe9a8d22",
   "metadata": {},
   "outputs": [],
   "source": []
  }
 ],
 "metadata": {
  "kernelspec": {
   "display_name": "Python 3 (ipykernel)",
   "language": "python",
   "name": "python3"
  },
  "language_info": {
   "codemirror_mode": {
    "name": "ipython",
    "version": 3
   },
   "file_extension": ".py",
   "mimetype": "text/x-python",
   "name": "python",
   "nbconvert_exporter": "python",
   "pygments_lexer": "ipython3",
   "version": "3.10.13"
  }
 },
 "nbformat": 4,
 "nbformat_minor": 5
}
