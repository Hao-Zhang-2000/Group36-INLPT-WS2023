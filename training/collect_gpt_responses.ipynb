{
 "cells": [
  {
   "cell_type": "code",
   "execution_count": 1,
   "id": "26f88c7a-1218-49ac-ac41-11e6cff38fad",
   "metadata": {},
   "outputs": [
    {
     "name": "stderr",
     "output_type": "stream",
     "text": [
      "/Users/chris/anaconda3/envs/BachelorEnv/lib/python3.10/site-packages/tqdm/auto.py:21: TqdmWarning: IProgress not found. Please update jupyter and ipywidgets. See https://ipywidgets.readthedocs.io/en/stable/user_install.html\n",
      "  from .autonotebook import tqdm as notebook_tqdm\n"
     ]
    }
   ],
   "source": [
    "import sys\n",
    "sys.path.append(\"../data\")\n",
    "\n",
    "\n",
    "from openai import OpenAI\n",
    "from tqdm import tqdm\n",
    "import json\n",
    "\n",
    "from embedding_models import EmbeddingModelMiniLML6\n",
    "from databases import NumpyDataBase\n",
    "import random\n",
    "\n",
    "from utils import system_message, format_user_message\n",
    "\n",
    "client = OpenAI()"
   ]
  },
  {
   "cell_type": "code",
   "execution_count": 2,
   "id": "1fb49570-729e-4c94-8813-1b3121783b2e",
   "metadata": {},
   "outputs": [],
   "source": [
    "with open(\"../data/data.json\", \"r\") as f:\n",
    "    data = json.load(f)\n",
    "embedding_model = EmbeddingModelMiniLML6()\n",
    "database = NumpyDataBase(data=data, embedding_model=embedding_model)"
   ]
  },
  {
   "cell_type": "code",
   "execution_count": 5,
   "id": "44aef37b-360a-4236-9023-e4e8a920bb63",
   "metadata": {
    "scrolled": true
   },
   "outputs": [
    {
     "name": "stdout",
     "output_type": "stream",
     "text": [
      "3301\n"
     ]
    },
    {
     "name": "stderr",
     "output_type": "stream",
     "text": [
      "  0%|                                                   | 0/915 [00:00<?, ?it/s]huggingface/tokenizers: The current process just got forked, after parallelism has already been used. Disabling parallelism to avoid deadlocks...\n",
      "To disable this warning, you can either:\n",
      "\t- Avoid using `tokenizers` before the fork if possible\n",
      "\t- Explicitly set the environment variable TOKENIZERS_PARALLELISM=(true | false)\n",
      "100%|█████████████████████████████████████████| 915/915 [50:49<00:00,  3.33s/it]\n"
     ]
    }
   ],
   "source": [
    "with open(\"training_data/medical_questions.json\", \"r\") as f:\n",
    "    queries = json.load(f)  \n",
    "    \n",
    "with open(\"training_data/random_questions.json\", \"r\") as f:\n",
    "    queries.extend(json.load(f))\n",
    "    \n",
    "with open(\"training_data/alpaca_instructions.json\", \"r\") as f:\n",
    "    instructions = [i['instruction'] for i in json.load(f)]\n",
    "    random.shuffle(instructions)\n",
    "    queries.extend(instructions[:int(0.1 * len(queries))])\n",
    "\n",
    "interactions = []\n",
    "\n",
    "for qidx, query in enumerate(tqdm(queries)):\n",
    "\n",
    "    user_message = format_user_message(query, database.retrieve_by_query(query))\n",
    "    assistant_response = client.chat.completions.create(\n",
    "        model = \"gpt-3.5-turbo\",\n",
    "        messages = [\n",
    "            {\"role\": \"system\", \"content\": system_message},\n",
    "            {\"role\": \"user\",   \"content\": user_message},\n",
    "        ],\n",
    "        temperature = 0.5\n",
    "    ).choices[0].message.content\n",
    "\n",
    "    interactions.append({\n",
    "        \"user-query\": query,\n",
    "        \"conversation-history\": [\n",
    "            {\"role\": \"user\", \"content\": user_message},\n",
    "            {\"role\": \"assistant\", \"content\": assistant_response}\n",
    "        ]\n",
    "    })\n",
    "\n",
    "    if qidx % 100 == 0:\n",
    "        with open(\"training_data/interactions.json\", \"w+\") as f:\n",
    "            f.write(json.dumps(interactions, indent=2))\n",
    "with open(\"training_data/interactions.json\", \"w+\") as f:\n",
    "    f.write(json.dumps(interactions, indent=2))"
   ]
  },
  {
   "cell_type": "code",
   "execution_count": null,
   "id": "1a4ab9d9-beb1-4400-8968-852b284f5903",
   "metadata": {},
   "outputs": [],
   "source": []
  },
  {
   "cell_type": "code",
   "execution_count": null,
   "id": "dfdc0926-f558-41bc-a985-c3aa1127ba0f",
   "metadata": {},
   "outputs": [],
   "source": []
  },
  {
   "cell_type": "code",
   "execution_count": null,
   "id": "c9e637ab-4eb4-4b6b-9190-2d2389d0b1c3",
   "metadata": {},
   "outputs": [],
   "source": []
  },
  {
   "cell_type": "code",
   "execution_count": null,
   "id": "162474b6-8e6f-4395-88f3-bb54ff5b399a",
   "metadata": {},
   "outputs": [],
   "source": []
  },
  {
   "cell_type": "code",
   "execution_count": null,
   "id": "48a0476f-2196-4241-8c18-59473ccb24ed",
   "metadata": {},
   "outputs": [],
   "source": []
  },
  {
   "cell_type": "code",
   "execution_count": null,
   "id": "012b0fe7-2dc4-4eee-bd33-a0f6a588ed5f",
   "metadata": {},
   "outputs": [],
   "source": []
  },
  {
   "cell_type": "code",
   "execution_count": null,
   "id": "970e2b4d-9552-4e21-812b-c5bc90791a65",
   "metadata": {},
   "outputs": [],
   "source": []
  }
 ],
 "metadata": {
  "kernelspec": {
   "display_name": "Python 3 (ipykernel)",
   "language": "python",
   "name": "python3"
  },
  "language_info": {
   "codemirror_mode": {
    "name": "ipython",
    "version": 3
   },
   "file_extension": ".py",
   "mimetype": "text/x-python",
   "name": "python",
   "nbconvert_exporter": "python",
   "pygments_lexer": "ipython3",
   "version": "3.10.13"
  }
 },
 "nbformat": 4,
 "nbformat_minor": 5
}
