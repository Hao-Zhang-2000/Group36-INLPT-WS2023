{
 "cells": [
  {
   "cell_type": "code",
   "execution_count": 1,
   "id": "38b57e3b-d52a-48d2-8058-1cf7745cad3f",
   "metadata": {},
   "outputs": [],
   "source": [
    "!source /home/chris/Code/DeepLearning/AQGllama/.venv/bin/activate"
   ]
  },
  {
   "cell_type": "code",
   "execution_count": 2,
   "id": "9ac450d7-b70a-4d69-9feb-453830daa810",
   "metadata": {},
   "outputs": [
    {
     "name": "stderr",
     "output_type": "stream",
     "text": [
      "/home/chris/Code/DeepLearning/AQGllama/.venv/lib/python3.11/site-packages/tqdm/auto.py:21: TqdmWarning: IProgress not found. Please update jupyter and ipywidgets. See https://ipywidgets.readthedocs.io/en/stable/user_install.html\n",
      "  from .autonotebook import tqdm as notebook_tqdm\n"
     ]
    }
   ],
   "source": [
    "import torch\n",
    "from torch import nn\n",
    "from transformers import Trainer, AutoModelForCausalLM, AutoTokenizer, BitsAndBytesConfig, TrainingArguments\n",
    "from peft import LoraConfig, prepare_model_for_kbit_training, get_peft_model\n",
    "from utils import LLAMA_TEMPLATES, MISTRAL_TEMPLATES, system_message\n",
    "from dataset import RAGDataset\n",
    "from tqdm import tqdm\n",
    "import json\n",
    "import yaml"
   ]
  },
  {
   "cell_type": "code",
   "execution_count": 3,
   "id": "1a1c2007-f255-4991-97ff-48e32dcec7f1",
   "metadata": {},
   "outputs": [],
   "source": [
    "with open('credentials.yaml', 'r') as file:\n",
    "     credentials = yaml.safe_load(file)"
   ]
  },
  {
   "cell_type": "code",
   "execution_count": 4,
   "id": "d9be8943-95af-4487-aaf4-9e0395cd6226",
   "metadata": {},
   "outputs": [],
   "source": [
    "class CustomTrainer(Trainer):\n",
    "    def compute_loss(self, model, inputs, return_outputs=False):\n",
    "        inp = inputs[0]\n",
    "        labels = inp.pop(\"labels\")\n",
    "        outputs = model(**inp)\n",
    "        logits = outputs.get(\"logits\")\n",
    "        B, T, C = logits.shape\n",
    "        loss_fct = nn.CrossEntropyLoss()\n",
    "        loss = loss_fct(logits.view(B*T, C), labels.view(-1))\n",
    "        return (loss, outputs) if return_outputs else loss\n"
   ]
  },
  {
   "cell_type": "code",
   "execution_count": 5,
   "id": "1723cebb-9d66-403b-b1cb-b17918dddb2d",
   "metadata": {},
   "outputs": [],
   "source": [
    "quant_config = BitsAndBytesConfig(\n",
    "    load_in_4bit=True,\n",
    "    bnb_4bit_quant_type=\"nf4\",\n",
    "    bnb_4bit_compute_dtype=torch.float16,\n",
    ")"
   ]
  },
  {
   "cell_type": "code",
   "execution_count": 6,
   "id": "06195387-5ed3-4220-8bfa-2c8208959956",
   "metadata": {},
   "outputs": [],
   "source": [
    "lora_config = LoraConfig(\n",
    "    lora_alpha=16,\n",
    "    lora_dropout=0.05,\n",
    "    r=32,\n",
    "    bias=\"none\",\n",
    "    task_type=\"CAUSAL_LM\",\n",
    ")"
   ]
  },
  {
   "cell_type": "code",
   "execution_count": 7,
   "id": "d8d90186-8120-4287-9510-15b1e558ebff",
   "metadata": {},
   "outputs": [],
   "source": [
    "base_model = {\n",
    "    \"llama\": {\n",
    "        \"path\": \"meta-llama/Llama-2-7b-chat-hf\",\n",
    "        \"save-path\": \"MediRAG-LLaMA\",\n",
    "        \"templates\": LLAMA_TEMPLATES\n",
    "    },\n",
    "    \"mistral\": {\n",
    "        \"path\": \"mistralai/Mistral-7B-Instruct-v0.2\",\n",
    "        \"save-path\": \"MediRAG-Mistral\",\n",
    "        \"templates\": MISTRAL_TEMPLATES\n",
    "    },\n",
    "    \"meditron\": {\n",
    "        \"path\": \"epfl-llm/meditron-7b\",\n",
    "        \"save-path\": \"MediRAG-Meditron\",\n",
    "        \"templates\": LLAMA_TEMPLATES\n",
    "    }\n",
    "}[\"meditron\"]"
   ]
  },
  {
   "cell_type": "code",
   "execution_count": 8,
   "id": "315a8c6e-311e-45d0-99f3-111bf61d7fe2",
   "metadata": {},
   "outputs": [
    {
     "name": "stderr",
     "output_type": "stream",
     "text": [
      "/home/chris/Code/DeepLearning/AQGllama/.venv/lib/python3.11/site-packages/transformers/models/auto/auto_factory.py:472: FutureWarning: The `use_auth_token` argument is deprecated and will be removed in v5 of Transformers. Please use `token` instead.\n",
      "  warnings.warn(\n",
      "Loading checkpoint shards: 100%|██████████████████████████████████████████████████████████████████████████████████████████████████████████████████████| 8/8 [00:05<00:00,  1.35it/s]\n",
      "/home/chris/Code/DeepLearning/AQGllama/.venv/lib/python3.11/site-packages/transformers/utils/hub.py:374: FutureWarning: The `use_auth_token` argument is deprecated and will be removed in v5 of Transformers. Please use `token` instead.\n",
      "  warnings.warn(\n",
      "/home/chris/Code/DeepLearning/AQGllama/.venv/lib/python3.11/site-packages/transformers/models/auto/tokenization_auto.py:671: FutureWarning: The `use_auth_token` argument is deprecated and will be removed in v5 of Transformers. Please use `token` instead.\n",
      "  warnings.warn(\n",
      "Special tokens have been added in the vocabulary, make sure the associated word embeddings are fine-tuned or trained.\n"
     ]
    }
   ],
   "source": [
    "save_path = base_model['save-path']\n",
    "message_templates = base_model['templates']\n",
    "model = AutoModelForCausalLM.from_pretrained(\n",
    "    base_model['path'], \n",
    "    quantization_config=quant_config, \n",
    "    use_auth_token=credentials['huggingface']\n",
    ")\n",
    "model = prepare_model_for_kbit_training(model)\n",
    "model = get_peft_model(model, lora_config)\n",
    "\n",
    "tokenizer  = AutoTokenizer.from_pretrained(\n",
    "    base_model['path'], \n",
    "    use_auth_token=credentials['huggingface'],\n",
    "    use_fast=False\n",
    ")\n",
    "tokenizer.pad_token = tokenizer.eos_token"
   ]
  },
  {
   "cell_type": "code",
   "execution_count": 9,
   "id": "b650cf96-257d-4319-83d5-a958a236f9ce",
   "metadata": {},
   "outputs": [
    {
     "name": "stdout",
     "output_type": "stream",
     "text": [
      "Samples in dataset: 4609\n"
     ]
    }
   ],
   "source": [
    "dataset = RAGDataset(\n",
    "    tokenizer,\n",
    "    system_message,\n",
    "    LLAMA_TEMPLATES\n",
    ")\n",
    "print(\"Samples in dataset:\", len(dataset))"
   ]
  },
  {
   "cell_type": "code",
   "execution_count": 10,
   "id": "4a4d2932-f71e-4b3b-9201-547afd9074e4",
   "metadata": {},
   "outputs": [],
   "source": [
    "training_params = TrainingArguments(\n",
    "    output_dir=f\"./{save_path}-Training\",\n",
    "    num_train_epochs=1,\n",
    "    per_device_train_batch_size=32,\n",
    "    gradient_accumulation_steps=1,\n",
    "    optim=\"paged_adamw_8bit\",\n",
    "    save_steps=50,\n",
    "    logging_steps=1,\n",
    "    learning_rate=2e-4,\n",
    "    weight_decay=0.01,\n",
    "    fp16=True,\n",
    "    max_grad_norm=1.,\n",
    "    warmup_ratio=0.03,\n",
    "    lr_scheduler_type=\"linear\"\n",
    ")"
   ]
  },
  {
   "cell_type": "code",
   "execution_count": 11,
   "id": "4c41db87-e963-4ebf-bc72-5f4e312a9144",
   "metadata": {},
   "outputs": [],
   "source": [
    "trainer = CustomTrainer(\n",
    "    model=model,\n",
    "    args=training_params,\n",
    "    train_dataset=dataset,\n",
    "    data_collator=lambda x: x\n",
    ")"
   ]
  },
  {
   "cell_type": "code",
   "execution_count": null,
   "id": "37433400-d795-4a29-86f7-bf9bd11ed04e",
   "metadata": {},
   "outputs": [
    {
     "name": "stderr",
     "output_type": "stream",
     "text": [
      "`use_cache=True` is incompatible with gradient checkpointing. Setting `use_cache=False`...\n",
      "/home/chris/Code/DeepLearning/AQGllama/.venv/lib/python3.11/site-packages/torch/utils/checkpoint.py:429: UserWarning: torch.utils.checkpoint: please pass in use_reentrant=True or use_reentrant=False explicitly. The default value of use_reentrant will be updated to be False in the future. To maintain current behavior, pass use_reentrant=True. It is recommended that you use use_reentrant=False. Refer to docs for more details on the differences between the two variants.\n",
      "  warnings.warn(\n",
      "Could not estimate the number of tokens of the input, floating-point operations will not be computed\n"
     ]
    },
    {
     "data": {
      "text/html": [
       "\n",
       "    <div>\n",
       "      \n",
       "      <progress value='2' max='145' style='width:300px; height:20px; vertical-align: middle;'></progress>\n",
       "      [  2/145 : < :, Epoch 0.01/1]\n",
       "    </div>\n",
       "    <table border=\"1\" class=\"dataframe\">\n",
       "  <thead>\n",
       " <tr style=\"text-align: left;\">\n",
       "      <th>Step</th>\n",
       "      <th>Training Loss</th>\n",
       "    </tr>\n",
       "  </thead>\n",
       "  <tbody>\n",
       "  </tbody>\n",
       "</table><p>"
      ],
      "text/plain": [
       "<IPython.core.display.HTML object>"
      ]
     },
     "metadata": {},
     "output_type": "display_data"
    }
   ],
   "source": [
    "trainer.train()"
   ]
  },
  {
   "cell_type": "code",
   "execution_count": null,
   "id": "db71df62-a333-4e53-8bce-a183f1e8a0c1",
   "metadata": {},
   "outputs": [],
   "source": [
    "trainer.save_model(f\"{save_path}\")"
   ]
  },
  {
   "cell_type": "code",
   "execution_count": null,
   "id": "3f31c9e7-1970-4aec-981a-0527833ea596",
   "metadata": {},
   "outputs": [],
   "source": []
  }
 ],
 "metadata": {
  "kernelspec": {
   "display_name": "pepehands2",
   "language": "python",
   "name": "pepehands2"
  },
  "language_info": {
   "codemirror_mode": {
    "name": "ipython",
    "version": 3
   },
   "file_extension": ".py",
   "mimetype": "text/x-python",
   "name": "python",
   "nbconvert_exporter": "python",
   "pygments_lexer": "ipython3",
   "version": "3.11.7"
  }
 },
 "nbformat": 4,
 "nbformat_minor": 5
}
