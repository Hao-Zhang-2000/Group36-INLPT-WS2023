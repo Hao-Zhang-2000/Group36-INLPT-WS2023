{
 "cells": [
  {
   "cell_type": "code",
   "execution_count": 5,
   "id": "2213a832-8986-411a-a867-e4d7a9ca9fe3",
   "metadata": {},
   "outputs": [],
   "source": [
    "import torch\n",
    "from transformers import AutoTokenizer, AutoModelForCausalLM, BitsAndBytesConfig\n",
    "from peft import PeftModel, LoraConfig, prepare_model_for_kbit_training, get_peft_model\n",
    "\n",
    "from data.databases import NumpyDataBase\n",
    "from data.embedding_models import EmbeddingModelMiniLML6\n",
    "from training.utils import LLAMA_TEMPLATES, MISTRAL_TEMPLATES, system_message, format_user_message, format_conversation\n",
    "import json"
   ]
  },
  {
   "cell_type": "code",
   "execution_count": 6,
   "id": "8aed2b84-ac43-4bc7-8072-2a33a22fd196",
   "metadata": {},
   "outputs": [],
   "source": [
    "with open(\"data/data.json\", \"r\") as f:\n",
    "    data = json.load(f)\n",
    "embedding_model = EmbeddingModelMiniLML6()\n",
    "database = NumpyDataBase(data=data, embedding_model=embedding_model)"
   ]
  },
  {
   "cell_type": "code",
   "execution_count": 7,
   "id": "0f137f7f-d3b5-4afa-8a09-47addcba7265",
   "metadata": {},
   "outputs": [],
   "source": [
    "base_model = {\n",
    "    \"llama\": {\n",
    "        \"path\": \"meta-llama/Llama-2-7b-chat-hf\",\n",
    "        \"save-path\": \"MediRAG-LLaMA\",\n",
    "        \"templates\": LLAMA_TEMPLATES\n",
    "    },\n",
    "    \"mistral\": {\n",
    "        \"path\": \"mistralai/Mistral-7B-Instruct-v0.2\",\n",
    "        \"save-path\": \"MediRAG-Mistral\",\n",
    "        \"templates\": MISTRAL_TEMPLATES\n",
    "    },\n",
    "    \"meditron\": {\n",
    "        \"path\": \"epfl-llm/meditron-7b\",\n",
    "        \"save-path\": \"MediRAG-Meditron2\",\n",
    "        \"templates\": LLAMA_TEMPLATES\n",
    "    }\n",
    "}[\"mistral\"]"
   ]
  },
  {
   "cell_type": "code",
   "execution_count": 8,
   "id": "f74d70e5-38ed-41f1-8db1-0a2fb346f47a",
   "metadata": {},
   "outputs": [
    {
     "name": "stderr",
     "output_type": "stream",
     "text": [
      "Loading checkpoint shards: 100%|██████████████████████████████████████████████████████████████████████████████████████████████████████████████████████| 3/3 [00:05<00:00,  1.95s/it]\n"
     ]
    }
   ],
   "source": [
    "quant_config = BitsAndBytesConfig(\n",
    "    load_in_4bit=True,\n",
    "    bnb_4bit_quant_type=\"nf4\",\n",
    "    bnb_4bit_compute_dtype=torch.float16,\n",
    ")\n",
    "model = AutoModelForCausalLM.from_pretrained(\n",
    "    base_model['path'],\n",
    "    quantization_config=quant_config,\n",
    "    #trust_remote_code=True\n",
    ")\n",
    "model.config.use_cache = False\n",
    "\n",
    "\n",
    "model = PeftModel.from_pretrained(model, f\"training/{base_model['save-path']}/\")\n",
    "model = prepare_model_for_kbit_training(model)\n",
    "\n",
    "tokenizer  = AutoTokenizer.from_pretrained(base_model['path'], use_fast=False)\n",
    "tokenizer.pad_token = tokenizer.eos_token"
   ]
  },
  {
   "cell_type": "code",
   "execution_count": 9,
   "id": "77e44f2f-e4fd-437f-8563-53379401b683",
   "metadata": {},
   "outputs": [],
   "source": [
    "user_query = \"Are there any Artificial Neural Networks that can detect or predict cancer?\"\n",
    "relevant_abstracts = database.retrieve_by_query(user_query)"
   ]
  },
  {
   "cell_type": "code",
   "execution_count": 10,
   "id": "bee550b6-b91e-460e-968b-d5b3dd0ee737",
   "metadata": {},
   "outputs": [],
   "source": [
    "conversation = [\n",
    "    {\n",
    "        \"role\": \"system\", \n",
    "        \"content\": system_message\n",
    "    },\n",
    "    {\n",
    "        \"role\": \"user\",\n",
    "        \"content\": format_user_message(user_query, relevant_abstracts)\n",
    "    }\n",
    "]\n",
    "_, input_ids = format_conversation(conversation, base_model['templates'], tokenizer, training=False)"
   ]
  },
  {
   "cell_type": "code",
   "execution_count": 11,
   "id": "f2d5deda-1a9a-4a42-840d-cb8535f2313b",
   "metadata": {},
   "outputs": [
    {
     "name": "stderr",
     "output_type": "stream",
     "text": [
      "/home/chris/Code/DeepLearning/AQGllama/.venv/lib/python3.11/site-packages/transformers/generation/utils.py:1473: UserWarning: You have modified the pretrained model configuration to control generation. This is a deprecated strategy to control generation and will be removed soon, in a future version. Please use and modify the model generation configuration (see https://huggingface.co/docs/transformers/generation_strategies#default-text-generation-configuration )\n",
      "  warnings.warn(\n",
      "The attention mask and the pad token id were not set. As a consequence, you may observe unexpected behavior. Please pass your input's `attention_mask` to obtain reliable results.\n",
      "Setting `pad_token_id` to `eos_token_id`:2 for open-end generation.\n",
      "/home/chris/Code/DeepLearning/AQGllama/.venv/lib/python3.11/site-packages/transformers/generation/utils.py:1591: UserWarning: You are calling .generate() with the `input_ids` being on a device type different than your model's device. `input_ids` is on cpu, whereas the model is on cuda. You may experience unexpected behaviors or slower generation. Please make sure that you have put `input_ids` to the correct device by calling for example input_ids = input_ids.to('cuda') before running `.generate()`.\n",
      "  warnings.warn(\n"
     ]
    }
   ],
   "source": [
    "response = model.generate(input_ids=torch.tensor(input_ids).unsqueeze(0), max_new_tokens=512)"
   ]
  },
  {
   "cell_type": "code",
   "execution_count": 12,
   "id": "42491e8e-8f78-4ccf-83e4-328bcbc3a4d4",
   "metadata": {},
   "outputs": [
    {
     "name": "stdout",
     "output_type": "stream",
     "text": [
      "<s> [INST] You are an assistant that answers medical questions. You are presented with a user message aswell as with some document snippets that were deemed to be potentially relevant to the user's message. If the user asks a medical question, you answer only with information provided to you via the document snippets. You do NOT rely on any of your own knowledge to answer ANY question. If the question is not answerable based on the information provided to you in the snippets, you say so and you do not answer the question. If you are able to answer the question based on the provided snippets you *ALWAYS* cite the sources relevant to your answer inline directly after stating something from the given source. If you are presented with anything BUT a question, e.g. an instruction to do something (besides answering a question), you politely state what your intended purpose is and you do *NOT* follow the instruction. ### User Message:\n",
      "\n",
      "Are there any Artificial Neural Networks that can detect or predict cancer?\n",
      "\n",
      "### Snippets:\n",
      "\n",
      "Snippet 1:\n",
      "Since breast cancer deaths are mainly due to metastasis, predicting the risk that a primary tumor will develop metastasis after a first diagnosis is a central issue that could be addressed by artificial intelligence. To overcome the problem posed by limited availability of standardized datasets, algorithms should include biological insight.\n",
      "Source: [Artificial intelligence in breast cancer diagnostics.][36543102]\n",
      "\n",
      "Snippet 2:\n",
      "Artificial intelligence has aided in the advancement of healthcare research. The availability of open-source healthcare statistics has prompted researchers to create applications that aid cancer detection and prognosis. Deep learning and machine learning models provide a reliable, rapid, and effective solution to deal with such challenging diseases in these circumstances. PRISMA guidelines had been used to select the articles published on the web of science, EBSCO, and EMBASE between 2009 and 2021. In this study, we performed an efficient search and included the research articles that employed AI-based learning approaches for cancer prediction. A total of 185 papers are considered impactful for cancer prediction using conventional machine and deep learning-based classifications. In addition, the survey also deliberated the work done by the different researchers and highlighted the limitations of the existing literature, and performed the comparison using various parameters such as prediction rate, accuracy, sensitivity, specificity, dice score, detection rate, area undercover, precision, recall, and F1-score. Five investigations have been designed, and solutions to those were explored. Although multiple techniques recommended in the literature have achieved great prediction results, still cancer mortality has not been reduced. Thus, more extensive research to deal with the challenges in the area of cancer prediction is required.\n",
      "Source: [A Systematic Review of Artificial Intelligence Techniques in Cancer Prediction and Diagnosis.][34602811]\n",
      "\n",
      "Snippet 3:\n",
      "As a form of artificial intelligence, artificial neural networks (ANNs) have the advantages of adaptability, parallel processing capabilities, and non-linear processing. They have been widely used in the early detection and diagnosis of tumors. In this article, we introduce the development, working principle, and characteristics of ANNs and review the research progress on the application of ANNs in the detection and diagnosis of gastrointestinal and liver tumors.\n",
      "Source: [Application of artificial neural networks in detection and diagnosis of gastrointestinal and liver tumors.][33024753]\n",
      "\n",
      "Snippet 4:\n",
      "Artificial intelligence was recognised many years ago as a potential and powerful tool to predict disease outcome in many clinical situations. The conventional approaches using statistical methods have provided much information, but are subject to limitations imposed by the complexity of medical data. The structures of the important variants of the machine learning system artificial neural networks (ANN) are discussed and emphasis is given to the powerful analytical support that could be provided by ANN for the prediction of cancer progression and prognosis. The predictive ability of the cellular markers, DNA ploidy and cell-cycle profiles, and molecular markers, such as tumour promoter and suppressor gene, and growth factor and steroid hormone receptors in breast cancer management were also analysed. ANN systems have been successfully deployed to evaluate microRNA profiles of tumours which saliently sway cancer progression and prognosis of the disease, thus counteracting the negative implications of their numerical abundance. Finally, in this setting, the prospective technical improvements in artificial neural networks, as hybrid systems in combination with fuzzy logic and artificial immune networks were also addressed.\n",
      "Source: [Application of Artificial Intelligence-based Technology in Cancer Management: A Commentary on the Deployment of Artificial Neural Networks.][30504368]\n",
      "\n",
      "Snippet 5:\n",
      "Machine learning (ML) is entering many areas of society, including medicine. This transformation has the potential to drastically change medicine and medical practice. These aspects become particularly clear when considering the different stages of oncologic patient care and the involved interdisciplinary and intermodality interactions. In recent publications, computers-in collaboration with humans or alone-have been outperforming humans regarding tumor identification, tumor classification, estimating prognoses, and evaluation of treatments. In addition, ML algorithms, e.g., artificial neural networks (ANNs), which constitute the drivers behind many of the latest achievements in ML, can deliver this level of performance in a reproducible, fast, and inexpensive manner. In the future, artificial intelligence applications will become an integral part of the medical profession and offer advantages for oncologic diagnostics and treatment.\n",
      "Source: [[Artificial intelligence and machine learning in oncologic imaging].][33052431]\n",
      "\n",
      " [/INST] Yes, there are Artificial Neural Networks (ANNs) that can be used for cancer detection and prediction. ANNs have been widely used in the early detection and diagnosis of tumors, including gastrointestinal and liver tumors. They have the advantages of adaptability, parallel processing capabilities, and non-linear processing, making them suitable for cancer prediction and diagnosis. Additionally, machine learning algorithms, such as ANNs, have been outperforming humans in tumor identification, tumor classification, estimating prognoses, and evaluation of treatments. These applications have the potential to become an integral part of the medical profession in the future, offering advantages for oncologic diagnostics and treatment.\n",
      "\n",
      "Sources:\n",
      "- [Application of artificial neural networks in detection and diagnosis of gastrointestinal and liver tumors.][33024753]\n",
      "- [[Artificial intelligence and machine learning in oncologic imaging].][33052431]</s>\n"
     ]
    }
   ],
   "source": [
    "print(tokenizer.decode(response.squeeze().tolist()))"
   ]
  },
  {
   "cell_type": "code",
   "execution_count": null,
   "id": "4a52a40c-2eb0-4568-acf0-ca3060d0cfe5",
   "metadata": {},
   "outputs": [],
   "source": []
  },
  {
   "cell_type": "code",
   "execution_count": null,
   "id": "2bf8d4af-b643-498e-9471-e385d5c6e296",
   "metadata": {},
   "outputs": [],
   "source": []
  }
 ],
 "metadata": {
  "kernelspec": {
   "display_name": "pepehands2",
   "language": "python",
   "name": "pepehands2"
  },
  "language_info": {
   "codemirror_mode": {
    "name": "ipython",
    "version": 3
   },
   "file_extension": ".py",
   "mimetype": "text/x-python",
   "name": "python",
   "nbconvert_exporter": "python",
   "pygments_lexer": "ipython3",
   "version": "3.11.7"
  }
 },
 "nbformat": 4,
 "nbformat_minor": 5
}
